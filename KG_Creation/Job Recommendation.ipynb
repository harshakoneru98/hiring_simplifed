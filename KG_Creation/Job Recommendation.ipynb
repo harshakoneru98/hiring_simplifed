{
 "cells": [
  {
   "cell_type": "code",
   "execution_count": null,
   "id": "74d6a9d9",
   "metadata": {},
   "outputs": [],
   "source": []
  },
  {
   "cell_type": "code",
   "execution_count": 1,
   "id": "3645a4a3",
   "metadata": {},
   "outputs": [],
   "source": [
    "import pandas as pd"
   ]
  },
  {
   "cell_type": "code",
   "execution_count": 2,
   "id": "e70041ae",
   "metadata": {},
   "outputs": [],
   "source": [
    "import pickle\n",
    "import json\n",
    "import numpy as np\n",
    "from scipy import spatial\n",
    "\n",
    "def cosine(x2):\n",
    "    global myskill_embedding\n",
    "    return 1 - spatial.distance.cosine(x2,myskill_embedding)"
   ]
  },
  {
   "cell_type": "code",
   "execution_count": 3,
   "id": "25fb9826",
   "metadata": {},
   "outputs": [],
   "source": [
    "with open(\"sentence_embedder.pkl\", \"rb\") as f:\n",
    "    sentence_embedder = pickle.load(f)"
   ]
  },
  {
   "cell_type": "code",
   "execution_count": 4,
   "id": "0cb8cdf9",
   "metadata": {},
   "outputs": [],
   "source": [
    "with open(\"data_for_recommendation.pkl\", \"rb\") as f:\n",
    "    data = pickle.load(f)"
   ]
  },
  {
   "cell_type": "code",
   "execution_count": 5,
   "id": "6dd271b6",
   "metadata": {},
   "outputs": [],
   "source": [
    "myskills =[\n",
    " 'Amazon Web Services',\n",
    " 'Flask',\n",
    " 'Information Technology',\n",
    " 'Jenkins',\n",
    " 'Web App Architecture',\n",
    " 'Angular',\n",
    " 'Splunk',\n",
    " 'GIT',\n",
    " 'C',\n",
    " 'Java',\n",
    " 'HTML',\n",
    " 'Excel',\n",
    " 'Database Management',\n",
    " 'Python',\n",
    " 'Powerpoint',\n",
    " 'Amazon EC2',\n",
    " 'Windows',\n",
    " 'MAC',\n",
    " 'Computer Engineering',\n",
    " 'Software Engineering Skills',\n",
    " 'Computer Science',\n",
    " 'CSS']"
   ]
  },
  {
   "cell_type": "code",
   "execution_count": 6,
   "id": "8f7699ca",
   "metadata": {},
   "outputs": [],
   "source": [
    "myskill_embedding = sentence_embedder.encode(', '.join(myskills))"
   ]
  },
  {
   "cell_type": "code",
   "execution_count": 7,
   "id": "3d61fc31",
   "metadata": {},
   "outputs": [],
   "source": [
    "\n",
    "with open(\"clustering_model_10.pkl\", \"rb\") as f2:\n",
    "    clustering_model = pickle.load(f2)"
   ]
  },
  {
   "cell_type": "code",
   "execution_count": 8,
   "id": "2d471a3e",
   "metadata": {},
   "outputs": [],
   "source": [
    "predict_embed = myskill_embedding.reshape(1,384)"
   ]
  },
  {
   "cell_type": "code",
   "execution_count": 9,
   "id": "0d93d6b9",
   "metadata": {},
   "outputs": [],
   "source": [
    "predicted_cluster = clustering_model.predict(np.array([float(w) for w in list(predict_embed[0])]).reshape(1,384))[0]"
   ]
  },
  {
   "cell_type": "code",
   "execution_count": 10,
   "id": "c2afede5",
   "metadata": {},
   "outputs": [
    {
     "data": {
      "text/plain": [
       "0"
      ]
     },
     "execution_count": 10,
     "metadata": {},
     "output_type": "execute_result"
    }
   ],
   "source": [
    "predicted_cluster"
   ]
  },
  {
   "cell_type": "code",
   "execution_count": 11,
   "id": "82ee707b",
   "metadata": {},
   "outputs": [],
   "source": [
    "Mapping_table = {}\n",
    "\n"
   ]
  },
  {
   "cell_type": "code",
   "execution_count": 12,
   "id": "c8c39aa3",
   "metadata": {},
   "outputs": [],
   "source": [
    "Mapping_table[0] =['Software Development Engineer','Product Manager','Data Engineer']\t\n",
    "Mapping_table[1] =['Data Engineer','Data Scientist']\n",
    "Mapping_table[2] =['Hardware Engineer','Product Manager']\t\n",
    "Mapping_table[3] =['Business Analyst','Product Manager']\t\n",
    "Mapping_table[4] =['Data Scientist','Business Analyst','Data Engineer']\n",
    "Mapping_table[5] =['Data Engineer','Data Scientist']\t\n",
    "Mapping_table[6] =['Product Manager','Business Analyst']\t\n",
    "Mapping_table[7] =['Product Manager','Business Analyst']\t\n",
    "Mapping_table[8] =['Product Manager','Business Analyst']\t\n",
    "Mapping_table[9] =['Data Scientist','Data Engineer','Machine Learning Engineer']"
   ]
  },
  {
   "cell_type": "code",
   "execution_count": null,
   "id": "f84d438f",
   "metadata": {},
   "outputs": [],
   "source": [
    "Mapping_table_NL = {}\n",
    "\n",
    "Mapping_table_NL[0] ='Based on your profile, it looks like Software Development Engineer is a good fit for you. We also found that you have some element of Product Management skills'\n",
    "Mapping_table_NL[1] ='Based on your profile, it looks like Data Engineering with focus on Data Science is a good fit for you'\n",
    "Mapping_table_NL[2] ='Based on your profile, it looks like you are interested in Hardware Engineer roles with element of Product Management'\t\n",
    "Mapping_table_NL[3] ='Based on your profile, it looks Business Analyst roles with career path in product management are well suited for you'\n",
    "Mapping_table_NL[4] ='Based on your profile, it looks like full stack Data Science roles with focus on necessary skills from Data engineering & business analysis are best suited for you'\n",
    "Mapping_table_NL[5] ='Based on your profile, it looks like Data Engineering with focus on Data Science is a good fit for you'\t\n",
    "Mapping_table_NL[6] ='Based on your profile, you are well suited for Product management roles with focus on business analysis'\n",
    "Mapping_table_NL[7] ='Based on your profile, you are well suited for Product management roles with focus on business analysis'\n",
    "Mapping_table_NL[8] ='Based on your profile, you are well suited for Product management roles with focus on business analysis'\n",
    "Mapping_table_NL[9] ='Based on your profile, it looks like you are looking for full stack Data Science roles'\n"
   ]
  },
  {
   "cell_type": "code",
   "execution_count": null,
   "id": "9add7338",
   "metadata": {},
   "outputs": [],
   "source": [
    "my_natural_language = Mapping_table_NL[predicted_cluster]"
   ]
  },
  {
   "cell_type": "code",
   "execution_count": 13,
   "id": "a0ff440d",
   "metadata": {},
   "outputs": [],
   "source": [
    "\n",
    "my_job_families = Mapping_table[predicted_cluster]\n"
   ]
  },
  {
   "cell_type": "code",
   "execution_count": 14,
   "id": "05f8ed5a",
   "metadata": {},
   "outputs": [],
   "source": [
    "data['similarity'] = data[\"embeddings\"].apply(cosine)"
   ]
  },
  {
   "cell_type": "code",
   "execution_count": 15,
   "id": "13683bd8",
   "metadata": {},
   "outputs": [],
   "source": [
    "def kmeans_predict(x):\n",
    "    x = np.array([float(w) for w in x])\n",
    "    return clustering_model.predict(x.reshape(1,384))"
   ]
  },
  {
   "cell_type": "code",
   "execution_count": 16,
   "id": "fb537a32",
   "metadata": {},
   "outputs": [],
   "source": [
    "data[\"embeddings_predict\"] = data[\"embeddings\"].apply(kmeans_predict)"
   ]
  },
  {
   "cell_type": "code",
   "execution_count": 17,
   "id": "460b02f9",
   "metadata": {},
   "outputs": [],
   "source": [
    "#data[data['Job_family'].isin(my_job_families)].sort_values(['similarity'],ascending=False).head(100)"
   ]
  },
  {
   "cell_type": "code",
   "execution_count": null,
   "id": "41111b32",
   "metadata": {},
   "outputs": [],
   "source": []
  },
  {
   "cell_type": "code",
   "execution_count": 22,
   "id": "0dc09316",
   "metadata": {},
   "outputs": [
    {
     "data": {
      "text/html": [
       "<div>\n",
       "<style scoped>\n",
       "    .dataframe tbody tr th:only-of-type {\n",
       "        vertical-align: middle;\n",
       "    }\n",
       "\n",
       "    .dataframe tbody tr th {\n",
       "        vertical-align: top;\n",
       "    }\n",
       "\n",
       "    .dataframe thead th {\n",
       "        text-align: right;\n",
       "    }\n",
       "</style>\n",
       "<table border=\"1\" class=\"dataframe\">\n",
       "  <thead>\n",
       "    <tr style=\"text-align: right;\">\n",
       "      <th></th>\n",
       "      <th>id</th>\n",
       "      <th>similarity</th>\n",
       "    </tr>\n",
       "  </thead>\n",
       "  <tbody>\n",
       "    <tr>\n",
       "      <th>1240</th>\n",
       "      <td>2465</td>\n",
       "      <td>0.818261</td>\n",
       "    </tr>\n",
       "    <tr>\n",
       "      <th>161</th>\n",
       "      <td>331</td>\n",
       "      <td>0.798979</td>\n",
       "    </tr>\n",
       "    <tr>\n",
       "      <th>1198</th>\n",
       "      <td>2400</td>\n",
       "      <td>0.793371</td>\n",
       "    </tr>\n",
       "    <tr>\n",
       "      <th>907</th>\n",
       "      <td>1846</td>\n",
       "      <td>0.791364</td>\n",
       "    </tr>\n",
       "    <tr>\n",
       "      <th>454</th>\n",
       "      <td>904</td>\n",
       "      <td>0.785277</td>\n",
       "    </tr>\n",
       "    <tr>\n",
       "      <th>...</th>\n",
       "      <td>...</td>\n",
       "      <td>...</td>\n",
       "    </tr>\n",
       "    <tr>\n",
       "      <th>1364</th>\n",
       "      <td>2724</td>\n",
       "      <td>0.716062</td>\n",
       "    </tr>\n",
       "    <tr>\n",
       "      <th>1445</th>\n",
       "      <td>2887</td>\n",
       "      <td>0.715833</td>\n",
       "    </tr>\n",
       "    <tr>\n",
       "      <th>183</th>\n",
       "      <td>388</td>\n",
       "      <td>0.715534</td>\n",
       "    </tr>\n",
       "    <tr>\n",
       "      <th>1066</th>\n",
       "      <td>2140</td>\n",
       "      <td>0.714828</td>\n",
       "    </tr>\n",
       "    <tr>\n",
       "      <th>1065</th>\n",
       "      <td>2139</td>\n",
       "      <td>0.714058</td>\n",
       "    </tr>\n",
       "  </tbody>\n",
       "</table>\n",
       "<p>100 rows × 2 columns</p>\n",
       "</div>"
      ],
      "text/plain": [
       "        id  similarity\n",
       "1240  2465    0.818261\n",
       "161    331    0.798979\n",
       "1198  2400    0.793371\n",
       "907   1846    0.791364\n",
       "454    904    0.785277\n",
       "...    ...         ...\n",
       "1364  2724    0.716062\n",
       "1445  2887    0.715833\n",
       "183    388    0.715534\n",
       "1066  2140    0.714828\n",
       "1065  2139    0.714058\n",
       "\n",
       "[100 rows x 2 columns]"
      ]
     },
     "execution_count": 22,
     "metadata": {},
     "output_type": "execute_result"
    }
   ],
   "source": [
    "data[data['Job_family'].isin(my_job_families)].sort_values(['similarity'],ascending=False).head(100)[['id','similarity']]"
   ]
  },
  {
   "cell_type": "code",
   "execution_count": 24,
   "id": "5f9a9501",
   "metadata": {},
   "outputs": [],
   "source": []
  },
  {
   "cell_type": "code",
   "execution_count": null,
   "id": "0be3088c",
   "metadata": {},
   "outputs": [],
   "source": []
  },
  {
   "cell_type": "code",
   "execution_count": 26,
   "id": "47711a00",
   "metadata": {},
   "outputs": [],
   "source": [
    "data['key'] = data['id'].astype(str)+\"_\"+data['similarity'].astype(str)\n",
    "top_100_recommendations = list(data[data['Job_family'].isin(my_job_families)].sort_values(['similarity'],ascending=False).head(100)['key'])\n",
    "\n"
   ]
  },
  {
   "cell_type": "code",
   "execution_count": null,
   "id": "75827506",
   "metadata": {},
   "outputs": [],
   "source": []
  },
  {
   "cell_type": "code",
   "execution_count": 27,
   "id": "282b6bf0",
   "metadata": {},
   "outputs": [
    {
     "data": {
      "text/plain": [
       "['2465_0.818261444568634',\n",
       " '331_0.7989789843559265',\n",
       " '2400_0.7933709025382996',\n",
       " '1846_0.7913642525672913',\n",
       " '904_0.7852768898010254',\n",
       " '1495_0.7839053869247437',\n",
       " '1496_0.7839053869247437',\n",
       " '378_0.7808452248573303',\n",
       " '1498_0.7766664624214172',\n",
       " '1915_0.7740883231163025',\n",
       " '988_0.7733390927314758',\n",
       " '1809_0.7684958577156067',\n",
       " '1810_0.7684958577156067',\n",
       " '2138_0.76617830991745',\n",
       " '621_0.7629515528678894',\n",
       " '617_0.7629515528678894',\n",
       " '29_0.7617679834365845',\n",
       " '2401_0.7612829208374023',\n",
       " '2402_0.7612829208374023',\n",
       " '2403_0.7612829208374023',\n",
       " '2405_0.7609601020812988',\n",
       " '2404_0.7609601020812988',\n",
       " '2276_0.7592589259147644',\n",
       " '2277_0.7592589259147644',\n",
       " '1793_0.7571165561676025',\n",
       " '3262_0.7527573704719543',\n",
       " '2466_0.7526670694351196',\n",
       " '1790_0.7518028020858765',\n",
       " '1063_0.7469452023506165',\n",
       " '57_0.7465001344680786',\n",
       " '1497_0.7445336580276489',\n",
       " '1862_0.7444339394569397',\n",
       " '1850_0.7444339394569397',\n",
       " '2491_0.7438815832138062',\n",
       " '357_0.7435057163238525',\n",
       " '2202_0.7426037192344666',\n",
       " '1066_0.7424455285072327',\n",
       " '1851_0.7420106530189514',\n",
       " '1852_0.7420106530189514',\n",
       " '1854_0.7420106530189514',\n",
       " '1856_0.7420106530189514',\n",
       " '2509_0.7416650056838989',\n",
       " '2012_0.7416521906852722',\n",
       " '2013_0.7416521906852722',\n",
       " '71_0.7415049076080322',\n",
       " '2148_0.7398752570152283',\n",
       " '2990_0.7397996187210083',\n",
       " '1614_0.7390732765197754',\n",
       " '253_0.7375138998031616',\n",
       " '1025_0.7370825409889221',\n",
       " '327_0.736833393573761',\n",
       " '1847_0.7362473011016846',\n",
       " '3422_0.7355270385742188',\n",
       " '593_0.7338508367538452',\n",
       " '1885_0.7335345149040222',\n",
       " '1884_0.7335345149040222',\n",
       " '1883_0.7335345149040222',\n",
       " '1882_0.7335345149040222',\n",
       " '1879_0.7335345149040222',\n",
       " '13_0.7333017587661743',\n",
       " '355_0.7327948808670044',\n",
       " '2878_0.7312988042831421',\n",
       " '48_0.7309043407440186',\n",
       " '47_0.7309043407440186',\n",
       " '255_0.7307083606719971',\n",
       " '2010_0.7292134761810303',\n",
       " '735_0.7286471724510193',\n",
       " '1136_0.7276459336280823',\n",
       " '1139_0.7276459336280823',\n",
       " '41_0.7269648909568787',\n",
       " '2536_0.7260535955429077',\n",
       " '1065_0.7258209586143494',\n",
       " '391_0.7250020503997803',\n",
       " '736_0.724293053150177',\n",
       " '351_0.7241267561912537',\n",
       " '2669_0.7238735556602478',\n",
       " '353_0.7235131859779358',\n",
       " '619_0.7223814725875854',\n",
       " '1022_0.722253143787384',\n",
       " '3090_0.7222440242767334',\n",
       " '3091_0.7222440242767334',\n",
       " '3086_0.7222440242767334',\n",
       " '3087_0.7222440242767334',\n",
       " '3088_0.7222440242767334',\n",
       " '3089_0.7222440242767334',\n",
       " '633_0.7221419215202332',\n",
       " '2035_0.7212145924568176',\n",
       " '2011_0.72017902135849',\n",
       " '1880_0.7201608419418335',\n",
       " '3234_0.7200372219085693',\n",
       " '1679_0.7193813920021057',\n",
       " '256_0.7192016243934631',\n",
       " '2874_0.718547523021698',\n",
       " '387_0.7170793414115906',\n",
       " '1067_0.7163862586021423',\n",
       " '2724_0.7160622477531433',\n",
       " '2887_0.7158332467079163',\n",
       " '388_0.7155343294143677',\n",
       " '2140_0.7148275375366211',\n",
       " '2139_0.7140575647354126']"
      ]
     },
     "execution_count": 27,
     "metadata": {},
     "output_type": "execute_result"
    }
   ],
   "source": [
    "\n",
    "top_100_recommendations"
   ]
  }
 ],
 "metadata": {
  "kernelspec": {
   "display_name": "Python 3 (ipykernel)",
   "language": "python",
   "name": "python3"
  },
  "language_info": {
   "codemirror_mode": {
    "name": "ipython",
    "version": 3
   },
   "file_extension": ".py",
   "mimetype": "text/x-python",
   "name": "python",
   "nbconvert_exporter": "python",
   "pygments_lexer": "ipython3",
   "version": "3.10.8"
  }
 },
 "nbformat": 4,
 "nbformat_minor": 5
}
